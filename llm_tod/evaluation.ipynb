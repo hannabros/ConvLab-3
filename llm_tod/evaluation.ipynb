{
 "cells": [
  {
   "cell_type": "markdown",
   "metadata": {},
   "source": [
    "# NLU\n",
    "- Joint Goal Accuracy\n",
    "- Slot Accuracy"
   ]
  },
  {
   "cell_type": "code",
   "execution_count": 585,
   "metadata": {},
   "outputs": [],
   "source": [
    "import os, sys\n",
    "import json\n",
    "import re\n",
    "import copy\n",
    "import spacy\n",
    "nlp = spacy.load('en_core_web_sm')\n",
    "\n",
    "from convlab.util import load_dataset, load_ontology"
   ]
  },
  {
   "cell_type": "code",
   "execution_count": 326,
   "metadata": {},
   "outputs": [],
   "source": [
    "llm_output_path = './llm_output/'\n",
    "nlu_outputs = [f for f in os.listdir(llm_output_path) if 'nlu_all' in f]"
   ]
  },
  {
   "cell_type": "code",
   "execution_count": 9,
   "metadata": {},
   "outputs": [
    {
     "name": "stdout",
     "output_type": "stream",
     "text": [
      "['multiwoz21_gpt-3.5-turbo_nlu_all.json', 'multiwoz21_meta-llama_Llama-2-7b-chat-hf_nlu_all.json', 'multiwoz21_meta-llama_Llama-2-13b-chat-hf_nlu_all.json', 'multiwoz21_meta-llama_Llama-2-70b-chat-hf_nlu_all.json', 'multiwoz21_gpt-4-1106-preview_nlu_all.json', 'sgd_gpt-3.5-turbo_nlu_all.json']\n"
     ]
    }
   ],
   "source": [
    "print(nlu_outputs)"
   ]
  },
  {
   "cell_type": "code",
   "execution_count": 247,
   "metadata": {},
   "outputs": [
    {
     "data": {
      "text/plain": [
       "'multiwoz21_gpt-3.5-turbo_nlu_all.json'"
      ]
     },
     "execution_count": 247,
     "metadata": {},
     "output_type": "execute_result"
    }
   ],
   "source": [
    "nlu_outputs[0]"
   ]
  },
  {
   "cell_type": "code",
   "execution_count": 401,
   "metadata": {},
   "outputs": [],
   "source": [
    "outputs = []\n",
    "with open(os.path.join(llm_output_path, nlu_outputs[3]), 'r') as f:\n",
    "  lines = f.readlines()\n",
    "  for line in lines:\n",
    "    outputs.append(json.loads(line))"
   ]
  },
  {
   "cell_type": "code",
   "execution_count": 107,
   "metadata": {},
   "outputs": [
    {
     "name": "stdout",
     "output_type": "stream",
     "text": [
      "dict_keys(['id', 'predictions', 'response'])\n",
      "{'id': 'multiwoz21-test-0', 'predictions': {'1': {'utter': \"user: I would like a taxi from Saint John's college to Pizza Hut Fen Ditton.\", 'das': 'request|taxi|departure|<das>request|taxi|destination|'}, '2': {'utter': 'user: I want to leave after 17:15.', 'das': 'inform|taxi|leave at|17:15'}, '3': {'utter': 'user: Thank you for all the help! I appreciate it.', 'das': 'thank|general||'}, '4': {'utter': 'user: No, I am all set.  Have a nice day.  Bye.', 'das': 'bye|general||'}}, 'response': '1. <UT>user: I would like a taxi from Saint John\\'s college to Pizza Hut Fen Ditton.</UT><DA>[[\"request\", \"taxi\", \"departure\", \"\"], [\"request\", \"taxi\", \"destination\", \"\"]]</DA>\\n2. <UT>user: I want to leave after 17:15.</UT><DA>[[\"inform\", \"taxi\", \"leave at\", \"17:15\"]]</DA>\\n3. <UT>user: Thank you for all the help! I appreciate it.</UT><DA>[[\"thank\", \"general\", \"\", \"\"]]</DA>\\n4. <UT>user: No, I am all set.  Have a nice day.  Bye.</UT><DA>[[\"bye\", \"general\", \"\", \"\"]]</DA>'}\n"
     ]
    }
   ],
   "source": [
    "print(outputs[0].keys())\n",
    "print(outputs[0])"
   ]
  },
  {
   "cell_type": "code",
   "execution_count": null,
   "metadata": {},
   "outputs": [],
   "source": [
    "dataset = load_dataset('multiwoz21')"
   ]
  },
  {
   "cell_type": "code",
   "execution_count": 937,
   "metadata": {},
   "outputs": [],
   "source": [
    "def get_gold_user_da(test_dataset):\n",
    "  gold_user_da_list = []\n",
    "  for data in test_dataset:\n",
    "    dialogue_id = data['dialogue_id']\n",
    "    num = 1\n",
    "    tmp_dict = {}\n",
    "    for turn in data['turns']:\n",
    "      if turn['speaker'] == 'user':\n",
    "        das = turn['dialogue_acts']\n",
    "        utter = turn['utterance'].strip()\n",
    "        all_das = []\n",
    "        for k, v in das.items():\n",
    "          all_das.extend(v)\n",
    "        das_conv_form = []\n",
    "        for da in all_das:\n",
    "          if da['domain'] == 'general':\n",
    "            value = \"\"\n",
    "          elif 'value' not in da:\n",
    "            value = \"\"\n",
    "          else:\n",
    "            value = da['value']\n",
    "          das_conv_form.append([da['intent'], da['domain'], da['slot'], value])\n",
    "        tmp_dict[num] = {\"utter\": utter, \"das\": das_conv_form}\n",
    "        num += 1\n",
    "    gold_user_da_list.append({'id': dialogue_id, 'gold': tmp_dict})\n",
    "  return gold_user_da_list\n",
    "\n",
    "        "
   ]
  },
  {
   "cell_type": "code",
   "execution_count": 938,
   "metadata": {},
   "outputs": [],
   "source": [
    "gold_user_da_list = get_gold_user_da(dataset['test'])"
   ]
  },
  {
   "cell_type": "code",
   "execution_count": null,
   "metadata": {},
   "outputs": [],
   "source": [
    "\"\"\"\n",
    " {'id': 'multiwoz21-test-742',\n",
    "  'gold': {1: {'utter': \"I'm looking for a nice place to eat.\", 'das': []},\n",
    "   2: {'utter': \"I don't care about the cuisine type, but I want it to be somewhere expensive and in the centre please.\",\n",
    "    'das': [['inform', 'restaurant', 'price range', 'expensive'],\n",
    "     ['inform', 'restaurant', 'area', 'centre']]},\n",
    "   3: {'utter': 'Okay. Can you book me a table for 3 people for 16:15 on a Thursday? I will need the reference number.',\n",
    "    'das': [['inform', 'restaurant', 'book day', 'thursday'],\n",
    "     ['inform', 'restaurant', 'book time', '16:15'],\n",
    "     ['inform', 'restaurant', 'book people', '3'],\n",
    "     ['request', 'restaurant', 'ref', '']]},\n",
    "   4: {'utter': \"Great, can't wait.  I am also looking for some places to go in the same area as the restaurant.\",\n",
    "    'das': [['inform', 'attraction', 'area', 'centre']]},\n",
    "   5: {'utter': 'What would you recommend?', 'das': []},\n",
    "   6: {'utter': \"Okay, well, what's a good museum to try?\",\n",
    "    'das': [['inform', 'attraction', 'type', 'museum']]},\n",
    "   7: {'utter': 'Yes and I need the postcode and phone number as well. ',\n",
    "    'das': [['request', 'attraction', 'postcode', ''],\n",
    "     ['request', 'attraction', 'phone', '']]},\n",
    "   8: {'utter': 'That is all I needed and I thank you for your time.',\n",
    "    'das': [['thank', 'general', '', '']]}}}\n",
    "\"\"\"\n",
    "gold_user_da_list"
   ]
  },
  {
   "cell_type": "code",
   "execution_count": 939,
   "metadata": {},
   "outputs": [],
   "source": [
    "def get_gold_user_da_by_id(id, gold_user_da_list):\n",
    "  for da in gold_user_da_list:\n",
    "    if da['id'] == id:\n",
    "      sorted_dict = dict(sorted(da['gold'].items(), key=lambda item: item[0]))\n",
    "      return [v['das'] for k, v in sorted_dict.items()]"
   ]
  },
  {
   "cell_type": "code",
   "execution_count": 159,
   "metadata": {},
   "outputs": [],
   "source": [
    "ontology = load_ontology('multiwoz21')"
   ]
  },
  {
   "cell_type": "code",
   "execution_count": 163,
   "metadata": {},
   "outputs": [
    {
     "data": {
      "text/plain": [
       "{'attraction': {'description': 'find an attraction',\n",
       "  'slots': {'area': {'description': 'area to search for attractions',\n",
       "    'is_categorical': True,\n",
       "    'possible_values': ['centre', 'east', 'north', 'south', 'west']},\n",
       "   'name': {'description': 'name of the attraction',\n",
       "    'is_categorical': False,\n",
       "    'possible_values': []},\n",
       "   'type': {'description': 'type of the attraction',\n",
       "    'is_categorical': True,\n",
       "    'possible_values': ['architecture',\n",
       "     'boat',\n",
       "     'cinema',\n",
       "     'college',\n",
       "     'concerthall',\n",
       "     'entertainment',\n",
       "     'museum',\n",
       "     'multiple sports',\n",
       "     'nightclub',\n",
       "     'park',\n",
       "     'swimmingpool',\n",
       "     'theatre']},\n",
       "   'entrance fee': {'description': 'how much is the entrance fee',\n",
       "    'is_categorical': False,\n",
       "    'possible_values': []},\n",
       "   'open hours': {'description': 'open hours of the attraction',\n",
       "    'is_categorical': False,\n",
       "    'possible_values': []},\n",
       "   'address': {'description': 'address of the attraction',\n",
       "    'is_categorical': False,\n",
       "    'possible_values': []},\n",
       "   'phone': {'description': 'phone number of the attraction',\n",
       "    'is_categorical': False,\n",
       "    'possible_values': []},\n",
       "   'postcode': {'description': 'postcode of the attraction',\n",
       "    'is_categorical': False,\n",
       "    'possible_values': []},\n",
       "   'choice': {'description': 'number of attractions that meet the requirement',\n",
       "    'is_categorical': False,\n",
       "    'possible_values': []}}},\n",
       " 'hotel': {'description': 'find and book a hotel',\n",
       "  'slots': {'internet': {'description': 'whether the hotel has internet',\n",
       "    'is_categorical': True,\n",
       "    'possible_values': ['free', 'no', 'yes']},\n",
       "   'parking': {'description': 'whether the hotel has parking',\n",
       "    'is_categorical': True,\n",
       "    'possible_values': ['free', 'no', 'yes']},\n",
       "   'area': {'description': 'area or place of the hotel',\n",
       "    'is_categorical': True,\n",
       "    'possible_values': ['centre', 'east', 'north', 'south', 'west']},\n",
       "   'stars': {'description': 'star rating of the hotel',\n",
       "    'is_categorical': True,\n",
       "    'possible_values': ['0', '1', '2', '3', '4', '5']},\n",
       "   'price range': {'description': 'price budget of the hotel',\n",
       "    'is_categorical': True,\n",
       "    'possible_values': ['expensive', 'cheap', 'moderate']},\n",
       "   'type': {'description': 'what is the type of the hotel',\n",
       "    'is_categorical': False,\n",
       "    'possible_values': ['guesthouse', 'hotel']},\n",
       "   'name': {'description': 'name of the hotel',\n",
       "    'is_categorical': False,\n",
       "    'possible_values': []},\n",
       "   'book people': {'description': 'number of people for the hotel booking',\n",
       "    'is_categorical': False,\n",
       "    'possible_values': []},\n",
       "   'book stay': {'description': 'length of stay at the hotel',\n",
       "    'is_categorical': False,\n",
       "    'possible_values': []},\n",
       "   'book day': {'description': 'day of the hotel booking',\n",
       "    'is_categorical': True,\n",
       "    'possible_values': ['monday',\n",
       "     'tuesday',\n",
       "     'wednesday',\n",
       "     'thursday',\n",
       "     'friday',\n",
       "     'saturday',\n",
       "     'sunday']},\n",
       "   'phone': {'description': 'phone number of the hotel',\n",
       "    'is_categorical': False,\n",
       "    'possible_values': []},\n",
       "   'postcode': {'description': 'postcode of the hotel',\n",
       "    'is_categorical': False,\n",
       "    'possible_values': []},\n",
       "   'address': {'description': 'address of the hotel',\n",
       "    'is_categorical': False,\n",
       "    'possible_values': []},\n",
       "   'ref': {'description': 'reference number of the hotel booking',\n",
       "    'is_categorical': False,\n",
       "    'possible_values': []},\n",
       "   'choice': {'description': 'number of hotels that meet the requirement',\n",
       "    'is_categorical': False,\n",
       "    'possible_values': []}}},\n",
       " 'taxi': {'description': 'rent taxi to travel',\n",
       "  'slots': {'destination': {'description': 'destination of taxi',\n",
       "    'is_categorical': False,\n",
       "    'possible_values': []},\n",
       "   'departure': {'description': 'departure location of taxi',\n",
       "    'is_categorical': False,\n",
       "    'possible_values': []},\n",
       "   'leave at': {'description': 'leaving time of taxi',\n",
       "    'is_categorical': False,\n",
       "    'possible_values': []},\n",
       "   'arrive by': {'description': 'arrival time of taxi',\n",
       "    'is_categorical': False,\n",
       "    'possible_values': []},\n",
       "   'phone': {'description': 'phone number of the taxi',\n",
       "    'is_categorical': False,\n",
       "    'possible_values': []},\n",
       "   'type': {'description': 'car type of the taxi',\n",
       "    'is_categorical': False,\n",
       "    'possible_values': []}}},\n",
       " 'restaurant': {'description': 'find and book a restaurant',\n",
       "  'slots': {'price range': {'description': 'price budget for the restaurant',\n",
       "    'is_categorical': True,\n",
       "    'possible_values': ['cheap', 'expensive', 'moderate']},\n",
       "   'area': {'description': 'area or place of the restaurant',\n",
       "    'is_categorical': True,\n",
       "    'possible_values': ['centre', 'east', 'north', 'south', 'west']},\n",
       "   'food': {'description': 'the cuisine of the restaurant',\n",
       "    'is_categorical': False,\n",
       "    'possible_values': []},\n",
       "   'name': {'description': 'name of the restaurant',\n",
       "    'is_categorical': False,\n",
       "    'possible_values': []},\n",
       "   'address': {'description': 'address of the restaurant',\n",
       "    'is_categorical': False,\n",
       "    'possible_values': []},\n",
       "   'postcode': {'description': 'postcode of the restaurant',\n",
       "    'is_categorical': False,\n",
       "    'possible_values': []},\n",
       "   'phone': {'description': 'phone number of the restaurant',\n",
       "    'is_categorical': False,\n",
       "    'possible_values': []},\n",
       "   'book people': {'description': 'number of people for the restaurant booking',\n",
       "    'is_categorical': False,\n",
       "    'possible_values': []},\n",
       "   'book time': {'description': 'time of the restaurant booking',\n",
       "    'is_categorical': False,\n",
       "    'possible_values': []},\n",
       "   'book day': {'description': 'day of the restaurant booking',\n",
       "    'is_categorical': True,\n",
       "    'possible_values': ['monday',\n",
       "     'tuesday',\n",
       "     'wednesday',\n",
       "     'thursday',\n",
       "     'friday',\n",
       "     'saturday',\n",
       "     'sunday']},\n",
       "   'ref': {'description': 'reference number of the restaurant booking',\n",
       "    'is_categorical': False,\n",
       "    'possible_values': []},\n",
       "   'choice': {'description': 'number of restaurants that meet the requirement',\n",
       "    'is_categorical': False,\n",
       "    'possible_values': []}}},\n",
       " 'train': {'description': 'find a train to travel',\n",
       "  'slots': {'destination': {'description': 'destination of the train',\n",
       "    'is_categorical': False,\n",
       "    'possible_values': []},\n",
       "   'arrive by': {'description': 'arrival time of the train',\n",
       "    'is_categorical': False,\n",
       "    'possible_values': []},\n",
       "   'departure': {'description': 'departure location of the train',\n",
       "    'is_categorical': False,\n",
       "    'possible_values': []},\n",
       "   'leave at': {'description': 'leaving time for the train',\n",
       "    'is_categorical': False,\n",
       "    'possible_values': []},\n",
       "   'duration': {'description': 'duration of the travel',\n",
       "    'is_categorical': False,\n",
       "    'possible_values': []},\n",
       "   'book people': {'description': 'number of people booking for train',\n",
       "    'is_categorical': False,\n",
       "    'possible_values': []},\n",
       "   'day': {'description': 'day of the train',\n",
       "    'is_categorical': True,\n",
       "    'possible_values': ['monday',\n",
       "     'tuesday',\n",
       "     'wednesday',\n",
       "     'thursday',\n",
       "     'friday',\n",
       "     'saturday',\n",
       "     'sunday']},\n",
       "   'ref': {'description': 'reference number of the train booking',\n",
       "    'is_categorical': False,\n",
       "    'possible_values': []},\n",
       "   'price': {'description': 'price of the train ticket',\n",
       "    'is_categorical': False,\n",
       "    'possible_values': []},\n",
       "   'train id': {'description': 'id of the train', 'is_categorical': False},\n",
       "   'choice': {'description': 'number of trains that meet the requirement',\n",
       "    'is_categorical': False,\n",
       "    'possible_values': []}}},\n",
       " 'police': {'description': 'find a police station for help',\n",
       "  'slots': {'name': {'description': 'name of the police station',\n",
       "    'is_categorical': False,\n",
       "    'possible_values': []},\n",
       "   'address': {'description': 'address of the police station',\n",
       "    'is_categorical': False,\n",
       "    'possible_values': []},\n",
       "   'postcode': {'description': 'postcode of the police station',\n",
       "    'is_categorical': False,\n",
       "    'possible_values': []},\n",
       "   'phone': {'description': 'phone number of the police station',\n",
       "    'is_categorical': False,\n",
       "    'possible_values': []}}},\n",
       " 'hospital': {'description': 'find a hospital for help',\n",
       "  'slots': {'department': {'description': 'specific department of the hospital',\n",
       "    'is_categorical': False,\n",
       "    'possible_values': []},\n",
       "   'address': {'description': 'address of the hospital',\n",
       "    'is_categorical': False,\n",
       "    'possible_values': []},\n",
       "   'phone': {'description': 'phone number of the hospital',\n",
       "    'is_categorical': False,\n",
       "    'possible_values': []},\n",
       "   'postcode': {'description': 'postcode of the hospital',\n",
       "    'is_categorical': False,\n",
       "    'possible_values': []}}},\n",
       " 'general': {'description': 'general domain without slots', 'slots': {}}}"
      ]
     },
     "execution_count": 163,
     "metadata": {},
     "output_type": "execute_result"
    }
   ],
   "source": [
    "# keys : 'domains', 'intents', 'state', 'dialogue_acts'\n",
    "ontology['domains']"
   ]
  },
  {
   "cell_type": "code",
   "execution_count": 444,
   "metadata": {},
   "outputs": [
    {
     "data": {
      "text/plain": [
       "[[],\n",
       " [['inform', 'restaurant', 'price range', 'expensive'],\n",
       "  ['inform', 'restaurant', 'area', 'centre']],\n",
       " [['inform', 'restaurant', 'book day', 'thursday'],\n",
       "  ['inform', 'restaurant', 'book time', '16:15'],\n",
       "  ['inform', 'restaurant', 'book people', '3'],\n",
       "  ['request', 'restaurant', 'ref', '']],\n",
       " [['inform', 'attraction', 'area', 'centre']],\n",
       " [],\n",
       " [['inform', 'attraction', 'type', 'museum']],\n",
       " [['request', 'attraction', 'postcode', ''],\n",
       "  ['request', 'attraction', 'phone', '']],\n",
       " [['thank', 'general', '', '']]]"
      ]
     },
     "execution_count": 444,
     "metadata": {},
     "output_type": "execute_result"
    }
   ],
   "source": [
    "get_gold_user_da_by_id('multiwoz21-test-742', gold_user_da_list)"
   ]
  },
  {
   "cell_type": "code",
   "execution_count": 935,
   "metadata": {},
   "outputs": [],
   "source": [
    "def get_json_validate_form(unvalidate_json, error_message):\n",
    "  match = re.search(r'\\(char (\\d+)\\)', str(error_message))\n",
    "  # print('match', match, error_message)\n",
    "  if match:\n",
    "    num = int(match.group(1))\n",
    "    if len(unvalidate_json) == num:\n",
    "      # [[\"bye\", \"general\", \"\"], 수정\n",
    "      start_bracket_idx = unvalidate_json.find('[')\n",
    "      end_bracket_idx = unvalidate_json.rfind(']')\n",
    "      if start_bracket_idx != -1 and end_bracket_idx != -1:\n",
    "        unvalidate_json = unvalidate_json[start_bracket_idx+1:end_bracket_idx]\n",
    "      # [[\"request\", \"hotel\", \"features\", [\"free_wifi\", \"parking\"]] 수정\n",
    "      left_cnt = unvalidate_json.count('[')\n",
    "      right_cnt = unvalidate_json.count(']')\n",
    "      if left_cnt < right_cnt:\n",
    "        fix_json = unvalidate_json + '['\n",
    "      elif left_cnt > right_cnt:\n",
    "        fix_json = unvalidate_json + ']'\n",
    "      result = json.loads(fix_json)\n",
    "      # print('1', result)\n",
    "      return result\n",
    "    # '[[\"nobook\", \"\", \"\", \"\"]], [\"thank\", \"\", \"\", \"\"]]' 수정\n",
    "    if len(unvalidate_json) > num and unvalidate_json[num] == ',':\n",
    "      if not unvalidate_json.startswith('[['):\n",
    "        unvalidate_json = '['+unvalidate_json\n",
    "      if not unvalidate_json.endswith(']]'):\n",
    "        unvalidate_json = unvalidate_json+']'\n",
    "      fix_json = unvalidate_json.replace(']],', '],')\n",
    "      # print('fix_json', fix_json)\n",
    "      result = json.loads(fix_json)\n",
    "      # print('2', result)\n",
    "      return result\n",
    "    # [[\"request\", \"hotel\", \"rating\": 4, \"free_parking\": True]] 수정\n",
    "    # [[\"request\", \"hotel\", \"features\": [\"free_wifi\", \"parking\"]] 수정\n",
    "    if unvalidate_json[num] == ':':\n",
    "      bracket_pattern = r'\\[(.*?)\\]'\n",
    "      no_colon_pattern = r'\\\"([^\\\"]+)\\\"\\,'\n",
    "      colon_pattern = r'\\\"([^\\\"]+)\\\": ([^,\\]]+)'\n",
    "      result = []\n",
    "      bracket_matches = re.findall(bracket_pattern, unvalidate_json)\n",
    "      for bracket_match in bracket_matches:\n",
    "        bracket_match = bracket_match.replace('[', '').replace(']', '')\n",
    "        no_colon_matches = re.findall(no_colon_pattern, bracket_match)\n",
    "        # print('no_colon', no_colon_matches)\n",
    "        colon_matches = re.findall(colon_pattern, bracket_match)\n",
    "        # print('colon_match', colon_matches)\n",
    "        for match in colon_matches:\n",
    "          no_colon_copy = copy.deepcopy(no_colon_matches)\n",
    "          no_colon_copy.extend([match[0], match[1]])\n",
    "          result.append(no_colon_copy)\n",
    "      # print('3', result, bracket_matches, no_colon_matches, colon_matches)\n",
    "      return result\n",
    "    print(unvalidate_json)\n",
    "    return json.loads(unvalidate_json)\n",
    "  else:\n",
    "    raise KeyError\n",
    "    \n",
    "def has_da(response):\n",
    "  # </DA>가 없는 경우, </DA>가 있으나 안의 내용이 없는 경우\n",
    "  pattern = re.compile(r'<DA>(.*?)</DA>', re.DOTALL)\n",
    "  matches = re.findall(pattern, response)\n",
    "  if matches:\n",
    "    if not all([True if match.strip()!='' else False for match in matches]):\n",
    "      return False\n",
    "    else:\n",
    "      return True\n",
    "  else:\n",
    "    return False\n",
    "\n",
    "def get_num_to_da(response):\n",
    "  # 1.와 </DA> 사이 모든 값 추출\n",
    "  num_pattern = r'(^\\d+\\.|\\n\\d+\\.)'\n",
    "  num_matches = re.findall(num_pattern, response)\n",
    "  matches = []\n",
    "  if num_matches:\n",
    "    for num_match in num_matches:\n",
    "      num_to_da_pattern = re.compile(f'{num_match}(.*?)</DA>', re.DOTALL)\n",
    "      match = re.search(num_to_da_pattern, response)\n",
    "      if match:  \n",
    "        matches.append(match.group(0).strip())\n",
    "    return matches\n",
    "  else:\n",
    "    return False\n",
    "  \n",
    "def match_to_json(num_to_da_match):\n",
    "  no = int(re.match('\\d+',  num_to_da_match).group(0))\n",
    "  da_pattern = re.compile(r'<DA>(.*?)</DA>', re.DOTALL)\n",
    "  num_to_da_match = num_to_da_match.replace('[DA]', '<DA>')\n",
    "  match = re.search(da_pattern, num_to_da_match).group(1)\n",
    "  match = match.replace(']]>', ']]')\n",
    "  match = match.replace('])]', ']]')\n",
    "  match = match.replace('][', '], [')\n",
    "  match = match.replace('] [', '], [')\n",
    "  match = match.replace(']], [[', '], [')\n",
    "  # match = match.replace('\": ', '\", ')\n",
    "  match = match.replace('\"None\"', '\"\"')\n",
    "  match = match.replace('None', '\"\"')\n",
    "  match = match.replace('\"null\"', '\"\"')\n",
    "  match = match.replace('null', '\"\"')\n",
    "  match = match.replace('`', '\"')\n",
    "  match = match.replace('“', '\"')\n",
    "  match = match.replace('”', '\"')\n",
    "  match = match.strip()\n",
    "  try:\n",
    "    match_json = json.loads(match)\n",
    "  except json.decoder.JSONDecodeError as json_e:\n",
    "    # print(match)\n",
    "    match_json = get_json_validate_form(match, json_e)\n",
    "  return no, match_json\n",
    "\n",
    "def get_pred_das(pred, gold_user_da_list):\n",
    "  id = pred['id']\n",
    "  response = pred['response']\n",
    "  pred_das = {}\n",
    "  pred_das['id'] = id\n",
    "  pred_das['das'] = {}\n",
    "  gold_user_da = get_gold_user_da_by_id(id, gold_user_da_list)\n",
    "  gold_user_da_cnt = len(gold_user_da)\n",
    "\n",
    "  if not has_da(response):\n",
    "    return 'NO_DA'\n",
    "  num_to_da_matches = get_num_to_da(response)\n",
    "  if not num_to_da_matches:\n",
    "    return 'NO_NUM'\n",
    "  # print(num_to_da_matches)\n",
    "  last_num = int(re.match(r'\\d+', num_to_da_matches[-1]).group(0))\n",
    "  # 수집하지 못한 num\n",
    "  num_not_in_response = [num for num in range(gold_user_da_cnt) if num >= last_num]\n",
    "  for num_to_da_match in num_to_da_matches:\n",
    "    no, match_json = match_to_json(num_to_da_match)\n",
    "    pred_das['das'][no] = match_json\n",
    "  pred_das['num_not_in_response'] = num_not_in_response\n",
    "  return pred_das\n",
    "\n",
    "# 일부 대화 내용 잘린 경우\n",
    "# ontology에 없는 domain을 가지고 오는 경우 -> pred_da에 대해서만 계산\n",
    "# ontology에 없는 slot_name을 가지고 오는 경우 -> pred_da에 대해서만 계산\n",
    "# ontology에 없는 slot_value를 가지고 오는 경우 -> pred_da에 대해서만 계산"
   ]
  },
  {
   "cell_type": "code",
   "execution_count": 960,
   "metadata": {},
   "outputs": [
    {
     "name": "stdout",
     "output_type": "stream",
     "text": [
      "multiwoz21_gpt-4-1106-preview_nlu_all.json\n"
     ]
    }
   ],
   "source": [
    "outputs = []\n",
    "with open(os.path.join(llm_output_path, nlu_outputs[4]), 'r') as f:\n",
    "  lines = f.readlines()\n",
    "  for line in lines:\n",
    "    outputs.append(json.loads(line))\n",
    "print(nlu_outputs[4])"
   ]
  },
  {
   "cell_type": "code",
   "execution_count": 961,
   "metadata": {},
   "outputs": [
    {
     "name": "stdout",
     "output_type": "stream",
     "text": [
      "1000\n"
     ]
    }
   ],
   "source": [
    "results = []\n",
    "for output in outputs:\n",
    "  try:\n",
    "    result = get_pred_das(output, gold_user_da_list)\n",
    "    if isinstance(result, dict):\n",
    "      results.append(result)\n",
    "    else:\n",
    "      fail_result = {'id': output['id'], 'das': 'FAIL'}\n",
    "      results.append(fail_result)\n",
    "  except Exception as e:\n",
    "    print(output['id'])\n",
    "    break\n",
    "print(len(results))"
   ]
  },
  {
   "cell_type": "code",
   "execution_count": 962,
   "metadata": {},
   "outputs": [],
   "source": [
    "fout = f\"{nlu_outputs[4].replace('.json', '_clean.json')}\"\n",
    "with open(os.path.join(llm_output_path, 'clean', fout), 'w') as f:\n",
    "  json.dump(results, f)"
   ]
  },
  {
   "cell_type": "code",
   "execution_count": 940,
   "metadata": {},
   "outputs": [
    {
     "name": "stdout",
     "output_type": "stream",
     "text": [
      "1. <UT>user: Please find a restaurant called Nusha.</UT> <DA>[[\"inform\", \"restaurant\", \"name\", \"nusha\"]]</DA>\n",
      "2. <UT>user: I am not sure of the type of food but could you please check again and see if you can find it? Thank you.</UT> <DA>[[\"request\", \"restaurant\", \"food\", \"\"]]</DA>\n",
      "3. <UT>user: It's not a restaurant, it's an attraction. Nusha.</UT> <DA>[[\"inform\", \"attraction\", \"name\", \"nusha\"]]</DA>\n",
      "4. <UT>user: No, but please confirm their address again and their postcode.</UT> <DA>[[\"request\", \"attraction\", \"address\", \"\"], [\"request\", \"attraction\", \"postcode\", \"\"]]</DA>\n",
      "5. <UT>user: I want Indian food in the center area.</UT> <DA>[[\"inform\", \"restaurant\", \"cuisine\", \"indian\"], [\"inform\", \"restaurant\", \"area\", \"center\"]]</DA>\n",
      "6. <UT>user: I am looking for expensive Indian food.</UT> <DA>[[\"inform\", \"restaurant\", \"price range\", \"expensive\"], [\"inform\", \"restaurant\", \"cuisine\", \"indian\"]]</DA>\n",
      "7. <UT>user: Can I get the address for saffron brasserie?</UT> <DA>[[\"request\", \"restaurant\", \"address\", \"\"], [\"inform\", \"restaurant\", \"name\", \"saffron brasserie\"]]</DA>\n",
      "8. <UT>user: Can I clarify that it was Indian food and not Italian food please?</UT> <DA>[[\"inform\", \"restaurant\", \"cuisine\", \"indian\"]]</DA>\n",
      "9. <UT>user: Thank you that is all the information I need at the moment.</UT> <DA>[[\"thank\", \"\", \"\", \"\"]]</DA>\n",
      "10. <UT>user: You have. Thank you. Goodbye.</UT> <DA>[[\"thank\", \"\", \"\", \"\"], [\"bye\", \"\", \"\", \"\"]]</DA>\n"
     ]
    },
    {
     "data": {
      "text/plain": [
       "{'id': 'multiwoz21-test-1',\n",
       " 'das': {1: [['inform', 'restaurant', 'name', 'nusha']],\n",
       "  2: [['request', 'restaurant', 'food', '']],\n",
       "  3: [['inform', 'attraction', 'name', 'nusha']],\n",
       "  4: [['request', 'attraction', 'address', ''],\n",
       "   ['request', 'attraction', 'postcode', '']],\n",
       "  5: [['inform', 'restaurant', 'cuisine', 'indian'],\n",
       "   ['inform', 'restaurant', 'area', 'center']],\n",
       "  6: [['inform', 'restaurant', 'price range', 'expensive'],\n",
       "   ['inform', 'restaurant', 'cuisine', 'indian']],\n",
       "  7: [['request', 'restaurant', 'address', ''],\n",
       "   ['inform', 'restaurant', 'name', 'saffron brasserie']],\n",
       "  8: [['inform', 'restaurant', 'cuisine', 'indian']],\n",
       "  9: [['thank', '', '', '']],\n",
       "  10: [['thank', '', '', ''], ['bye', '', '', '']]},\n",
       " 'num_not_in_response': []}"
      ]
     },
     "execution_count": 940,
     "metadata": {},
     "output_type": "execute_result"
    }
   ],
   "source": [
    "print(outputs[1]['response'])\n",
    "get_pred_das(outputs[1], gold_user_da_list)\n"
   ]
  },
  {
   "cell_type": "code",
   "execution_count": 154,
   "metadata": {},
   "outputs": [],
   "source": [
    "\n",
    "def calculate_joint_goal_accuracy(gold_das_list, pred_das_list):\n",
    "    jga_total = 0\n",
    "    jga_cnt = 0\n",
    "    for gold_das, pred_das in zip(gold_das_list, pred_das_list):\n",
    "      gold_das_set = set([f'{da[1].lower()}|{da[2].lower()}|{da[3].lower()}' for da in gold_das if len(da) == 4])\n",
    "      pred_das_set = set([f'{da[1].lower()}|{da[2].lower()}|{da[3].lower()}' for da in pred_das if len(da) == 4])\n",
    "      if gold_das_set == pred_das_set:\n",
    "        jga_total += 1\n",
    "        jga_cnt += 1\n",
    "      else:\n",
    "        jga_total += 1\n",
    "        jga_cnt += 1\n",
    "    return jga_total, jga_cnt\n",
    "\n",
    "def calculate_slot_accuracy(gold_das_list, pred_das_list):\n",
    "    total_slots = 0\n",
    "    correct_slots = 0\n",
    "    for gold_das, pred_das in zip(gold_das_list, pred_das_list):\n",
    "      gold_das_set = set([f'{da[1].lower()}|{da[2].lower()}|{da[3].lower()}' for da in gold_das if len(da) == 4])\n",
    "      pred_das_set = set([f'{da[1].lower()}|{da[2].lower()}|{da[3].lower()}' for da in pred_das if len(da) == 4])\n",
    "      total_slots + len(gold_das_set)\n",
    "      for das in pred_das_set:\n",
    "        if das in gold_das_set:\n",
    "            correct_slots += 1\n",
    "      return correct_slots, total_slots\n",
    "\n"
   ]
  },
  {
   "cell_type": "code",
   "execution_count": 59,
   "metadata": {},
   "outputs": [],
   "source": [
    "def check_cnt(golds=dataset['test'], preds=outputs):\n",
    "  assert len(golds) == len(preds)\n",
    "  for gold, pred in zip(golds, preds):\n",
    "    gold_cnt = 0\n",
    "    for turn in gold['turns']:\n",
    "      if turn['speaker'] == 'user':\n",
    "        gold_cnt += 1\n",
    "    pred_cnt = pred['response'].count('<DA>')\n",
    "    if pred_cnt == 0:\n",
    "      print(gold['dialogue_id'])\n",
    "    # if gold_cnt != pred_cnt:\n",
    "    #   print(gold['dialogue_id'])"
   ]
  },
  {
   "cell_type": "code",
   "execution_count": 60,
   "metadata": {},
   "outputs": [
    {
     "name": "stdout",
     "output_type": "stream",
     "text": [
      "multiwoz21-test-170\n",
      "multiwoz21-test-391\n",
      "multiwoz21-test-480\n",
      "multiwoz21-test-574\n",
      "multiwoz21-test-883\n"
     ]
    }
   ],
   "source": [
    "check_cnt(dataset['test'], outputs)"
   ]
  },
  {
   "cell_type": "code",
   "execution_count": 54,
   "metadata": {},
   "outputs": [],
   "source": [
    "def check_utter(outputs):\n",
    "  less_cnt = 0\n",
    "  gold_data = dataset['test']\n",
    "  assert len(outputs) == len(gold_data)\n",
    "  for idx, (pred, gold) in enumerate(zip(outputs, gold_data)):\n",
    "    gold_utterance = [turn['utterance'] for turn in gold['turns'] if turn['speaker'] == 'user']\n",
    "    pred_utterance = [pred['predictions'][turn]['utter'] for turn in pred['predictions']]\n",
    "    if len(gold_utterance) != len(pred_utterance):\n",
    "      less_cnt += 1\n",
    "      gold_utterance = gold_utterance[:len(pred_utterance)]\n",
    "    for g_utter, p_utter in zip(gold_utterance, pred_utterance):\n",
    "      g_doc = nlp(g_utter.lower())\n",
    "      p_doc = nlp(p_utter.replace('user: ', '').lower())\n",
    "      if g_doc.similarity(p_doc) < 0.9:\n",
    "        print(idx, g_doc, p_doc)\n",
    "  return less_cnt"
   ]
  },
  {
   "cell_type": "code",
   "execution_count": null,
   "metadata": {},
   "outputs": [],
   "source": [
    "check_utter(outputs)"
   ]
  },
  {
   "cell_type": "code",
   "execution_count": null,
   "metadata": {},
   "outputs": [],
   "source": []
  },
  {
   "cell_type": "markdown",
   "metadata": {},
   "source": [
    "# NLG\n",
    "- BLEU score\n",
    "- BERTscore"
   ]
  },
  {
   "cell_type": "code",
   "execution_count": 703,
   "metadata": {},
   "outputs": [],
   "source": [
    "llm_output_path = './llm_output/'\n",
    "nlg_outputs = [f for f in os.listdir(llm_output_path) if 'nlg_all.json' in f]"
   ]
  },
  {
   "cell_type": "code",
   "execution_count": 704,
   "metadata": {},
   "outputs": [
    {
     "name": "stdout",
     "output_type": "stream",
     "text": [
      "['multiwoz21_gpt-3.5-turbo_nlg_all.json', 'multiwoz21_meta-llama_Llama-2-7b-chat-hf_nlg_all.json', 'multiwoz21_meta-llama_Llama-2-13b-chat-hf_nlg_all.json', 'multiwoz21_gpt-4-1106-preview_nlg_all.json', 'multiwoz21_meta-llama_Llama-2-70b-chat-hf_nlg_all.json']\n"
     ]
    }
   ],
   "source": [
    "print(nlg_outputs)"
   ]
  },
  {
   "cell_type": "code",
   "execution_count": 706,
   "metadata": {},
   "outputs": [],
   "source": [
    "outputs = []\n",
    "with open(os.path.join(llm_output_path, nlg_outputs[0]), 'r') as f:\n",
    "  lines = f.readlines()\n",
    "  for line in lines:\n",
    "    outputs.append(json.loads(line))"
   ]
  },
  {
   "cell_type": "code",
   "execution_count": 710,
   "metadata": {},
   "outputs": [],
   "source": [
    "def get_gold_sys_response(test_dataset):\n",
    "  gold_sys_response_list = []\n",
    "  for data in test_dataset:\n",
    "    dialogue_id = data['dialogue_id']\n",
    "    num = 1\n",
    "    tmp_dict = {}\n",
    "    for turn in data['turns']:\n",
    "      if turn['speaker'] == 'system':\n",
    "        utter = turn['utterance'].strip()\n",
    "        tmp_dict[num] = {\"sys_utter\": utter}\n",
    "        num += 1\n",
    "    gold_sys_response_list.append({\"id\": dialogue_id, \"gold\": tmp_dict})\n",
    "  return gold_sys_response_list"
   ]
  },
  {
   "cell_type": "code",
   "execution_count": 711,
   "metadata": {},
   "outputs": [],
   "source": [
    "\"\"\"\n",
    "{'id': 'multiwoz21-test-0',\n",
    " 'gold': {1: {'sys_utter': 'What time do you want to leave and what time do you want to arrive by?'},\n",
    "  2: {'sys_utter': 'Booking completed! your taxi will be blue honda Contact number is 07218068540'},\n",
    "  3: {'sys_utter': 'You are welcome.  Is there anything else I can help you with today?'},\n",
    "  4: {'sys_utter': 'you too! thank you'}}}\n",
    "\"\"\"\n",
    "gold_sys_response_list = get_gold_sys_response(dataset['test'])"
   ]
  },
  {
   "cell_type": "code",
   "execution_count": 713,
   "metadata": {},
   "outputs": [
    {
     "data": {
      "text/plain": [
       "\"1. <UUT>I would like a taxi from Saint John's college to Pizza Hut Fen Ditton.</UUT>\\n<SUT>I can arrange a taxi for you. May I know the time you would like to leave and the time you need to arrive?</SUT>\\n\\n2. <UUT>I want to leave after 17:15.</UUT>\\n<SUT>Great! I have booked a blue Honda for you. The contact number is 07218068540. Is there anything else I can assist you with?</SUT>\\n\\n3. <UUT>Thank you for all the help! I appreciate it.</UUT>\\n<SUT>You're welcome! I'm glad I could assist you. Is there anything else I can help you with?</SUT>\\n\\n4. <UUT>No, I am all set. Have a nice day. Bye.</UUT>\\n<SUT>Thank you! I hope you have a wonderful day too. Goodbye!</SUT>\""
      ]
     },
     "execution_count": 713,
     "metadata": {},
     "output_type": "execute_result"
    }
   ],
   "source": [
    "outputs[0]['response']"
   ]
  },
  {
   "cell_type": "code",
   "execution_count": 836,
   "metadata": {},
   "outputs": [],
   "source": [
    "def get_gold_sys_response_by_id(id, gold_sys_response_list):\n",
    "  for sys_rsp in gold_sys_response_list:\n",
    "    if sys_rsp['id'] == id:\n",
    "      sorted_dict = dict(sorted(sys_rsp['gold'].items(), key=lambda item: item[0]))\n",
    "      return [v['sys_utter'] for k, v in sorted_dict.items()]"
   ]
  },
  {
   "cell_type": "code",
   "execution_count": 837,
   "metadata": {},
   "outputs": [
    {
     "data": {
      "text/plain": [
       "['There are many fine places to eat.  What type of cuisine would you prefer?',\n",
       " \"There are a number of expensive eateries in the centre. How about one of my favorites - Midsummer House Restaurant? They serve British food and it's delicious!\",\n",
       " 'I have made those reservations your reference number is PLGQUXC8.',\n",
       " 'I have more than 40 attractions in the centre of town. What type of attraction did you have in mind?',\n",
       " 'Personally, I would go to a museum, but there are plenty of other types of attractions from nightclubs to colleges as well.',\n",
       " \"I suggest the Castle Galleries. It's free and in the centre of town. Do you want an address?\",\n",
       " 'The phone number is 01223307402, postcode cb23bj, and their address is\\tunit su43, grande arcade, saint andrews street. Is there anything else I can assist you with?',\n",
       " 'It was my pleasure. Have a nice day. Good bye.']"
      ]
     },
     "execution_count": 837,
     "metadata": {},
     "output_type": "execute_result"
    }
   ],
   "source": [
    "get_gold_sys_response_by_id('multiwoz21-test-742', gold_sys_response_list)"
   ]
  },
  {
   "cell_type": "code",
   "execution_count": 893,
   "metadata": {},
   "outputs": [],
   "source": [
    "def has_sys_rsp(response):\n",
    "  # </SUT>가 없는 경우, </SUT>가 있으나 안의 내용이 없는 경우\n",
    "  sut_pattern = re.compile(r'<SUT>(.*?)</SUT>', re.DOTALL)\n",
    "  # System: or Sys: 형태\n",
    "  sys_pattern = re.compile(r'(?:system:|sys:)(.*?[.!?\"])$', re.DOTALL | re.MULTILINE)\n",
    "  sut_matches = re.findall(sut_pattern, response)\n",
    "  sys_matches = re.findall(sys_pattern, response.lower())\n",
    "  matches = None\n",
    "  if sut_matches:\n",
    "    matches = sut_matches\n",
    "  if sys_matches:\n",
    "    matches = sys_matches\n",
    "  if matches:\n",
    "    # print(matches)\n",
    "    if not all([True if match.strip()!='' else False for match in matches]):\n",
    "      return False\n",
    "    else:\n",
    "      return True\n",
    "  else:\n",
    "    return False\n",
    "  \n",
    "def get_num_lines(response):\n",
    "  # 1.와 다음 숫자까지 분리\n",
    "  is_start = False\n",
    "  num_lines = []\n",
    "  tmp = []\n",
    "  for line in re.split(r'(^\\d+\\.|\\n\\d+\\.)', response):\n",
    "    line = line.lstrip()\n",
    "    if re.match(r'\\d+\\.', line):\n",
    "      is_start = True\n",
    "      if tmp:\n",
    "        num_lines.append(''.join(tmp))\n",
    "        tmp = []\n",
    "    if is_start:\n",
    "      tmp.append(line)\n",
    "  return num_lines\n",
    "\n",
    "def match_sut_token(response):\n",
    "  result = []\n",
    "  for line in response.split('\\n'):\n",
    "    if '<SUT>' in line:\n",
    "      sut_idx = line.index('<SUT>')+len('<SUT>')\n",
    "      if '</UUT>' in line:\n",
    "        prefix = line[:sut_idx]\n",
    "        suffix = line[sut_idx:]\n",
    "        suffix = suffix.replace('</UUT>', '</SUT>')\n",
    "        result.append(prefix+suffix)\n",
    "        continue\n",
    "      else:\n",
    "        result.append(line)\n",
    "        continue\n",
    "    elif '</SUT>' in line and line.count('<UUT>') == 1:\n",
    "      line = line.replace('<UUT>', '<SUT>')\n",
    "      result.append(line)\n",
    "      continue     \n",
    "    else:\n",
    "      result.append(line)\n",
    "      continue\n",
    "  return '\\n'.join(result)\n",
    "\n",
    "def get_sys_rsp(num_line, is_last):\n",
    "  # </SUT>가 없는 경우, </SUT>가 있으나 안의 내용이 없는 경우\n",
    "  sut_pattern = re.compile(r'<SUT>(.*?)</SUT>', re.DOTALL)\n",
    "  # System: or Sys: 형태\n",
    "  sys_pattern = re.compile(r'(?:system:|sys:)(.*?[.!?\"])$', re.DOTALL | re.MULTILINE)\n",
    "  no = int(re.match(r'\\d+', num_line).group(0))\n",
    "  if is_last and not sut_pattern:\n",
    "    for line in num_line.split('\\n'):\n",
    "      line = line.strip()\n",
    "      sys_match = re.search(sys_pattern, line.lower())\n",
    "      if sys_match:\n",
    "        sys_rsp = line[sys_match.start(1):sys_match.end(1)].strip()\n",
    "        return no, sys_rsp\n",
    "  else:\n",
    "    line = num_line.strip()\n",
    "    sut_match = re.search(sut_pattern, line)\n",
    "    sys_match = re.search(sys_pattern, line.lower())\n",
    "    if sut_match:\n",
    "      sys_rsp = sut_match.group(1)\n",
    "      return no, sys_rsp\n",
    "    if sys_match:\n",
    "      sys_rsp = line[sys_match.start(1):sys_match.end(1)].strip()\n",
    "      return no, sys_rsp\n",
    "  return no, None\n",
    "\n",
    "# Get system response predictions\n",
    "def get_pred_sys_rsp(pred, gold_sys_response_list):\n",
    "  id = pred['id']\n",
    "  response = pred['response']\n",
    "  response = re.sub(r'\\([^)]*\\)', '', response)\n",
    "  response = response.replace('SUT:', 'System:')\n",
    "  response = response.replace('[SUT]', '')\n",
    "  response = response.replace(' \\n', '\\n')\n",
    "  # match <SUT> token with </SUT>\n",
    "  response = match_sut_token(response)\n",
    "  pred_sys_rsp = {}\n",
    "  pred_sys_rsp['id'] = id\n",
    "  pred_sys_rsp['sys_rsp'] = {}\n",
    "  gold_sys_rsp = get_gold_sys_response_by_id(id, gold_sys_response_list)\n",
    "  gold_sys_rsp_cnt = len(gold_sys_rsp)\n",
    "\n",
    "  if not has_sys_rsp(response):\n",
    "    return 'NO_SYS_RSP'\n",
    "  num_lines = get_num_lines(response)\n",
    "  if len(num_lines) == 0:\n",
    "    return 'NO_NUM_LINES'\n",
    "  num_success = []\n",
    "  for idx, num_line in enumerate(num_lines):\n",
    "    if idx == len(num_lines)-1:\n",
    "      no, sys_rsp = get_sys_rsp(num_line, is_last=True)\n",
    "    else:\n",
    "      no, sys_rsp = get_sys_rsp(num_line, is_last=False)\n",
    "    if sys_rsp:\n",
    "      pred_sys_rsp['sys_rsp'][no] = sys_rsp\n",
    "      num_success.append(no)\n",
    "  assert len(num_success) > 0\n",
    "  # 수집하지 못한 num\n",
    "  num_not_in_response = [num for num in range(gold_sys_rsp_cnt) if num > max(num_success)]\n",
    "  pred_sys_rsp['num_not_in_response'] = num_not_in_response\n",
    "  return pred_sys_rsp"
   ]
  },
  {
   "cell_type": "code",
   "execution_count": 926,
   "metadata": {},
   "outputs": [
    {
     "name": "stdout",
     "output_type": "stream",
     "text": [
      "multiwoz21_meta-llama_Llama-2-70b-chat-hf_nlg_all.json\n"
     ]
    }
   ],
   "source": [
    "outputs = []\n",
    "with open(os.path.join(llm_output_path, nlg_outputs[4]), 'r') as f:\n",
    "  lines = f.readlines()\n",
    "  for line in lines:\n",
    "    outputs.append(json.loads(line))\n",
    "print(nlg_outputs[4])"
   ]
  },
  {
   "cell_type": "code",
   "execution_count": 927,
   "metadata": {},
   "outputs": [
    {
     "name": "stdout",
     "output_type": "stream",
     "text": [
      "1000\n"
     ]
    }
   ],
   "source": [
    "# for output in outputs:\n",
    "results = []\n",
    "for output in outputs:\n",
    "  try:\n",
    "    result = get_pred_sys_rsp(output, gold_sys_response_list)\n",
    "    if not isinstance(result, dict):\n",
    "      fail_result = {'id': output['id'], 'sys_rsp': 'FAIL'}\n",
    "      results.append(fail_result)\n",
    "    else:\n",
    "      results.append(result)\n",
    "  except:\n",
    "    print(output['id'])\n",
    "    break\n",
    "print(len(results))"
   ]
  },
  {
   "cell_type": "code",
   "execution_count": 928,
   "metadata": {},
   "outputs": [],
   "source": [
    "fout = f\"{nlg_outputs[4].replace('.json', '_clean.json')}\"\n",
    "with open(os.path.join(llm_output_path, 'clean', fout), 'w') as f:\n",
    "  json.dump(results, f)"
   ]
  },
  {
   "cell_type": "code",
   "execution_count": 917,
   "metadata": {},
   "outputs": [
    {
     "name": "stdout",
     "output_type": "stream",
     "text": [
      "Sure, I'd be happy to help! Here are the utterances for each dialogue act:\n",
      "\n",
      "1. user: I'm looking for a place to stay in the south of town. It doesn't need to have free parking.\n",
      "<DA>[[\"select\", \"hotel\", \"stars\", \"3\"], [\"select\", \"hotel\", \"stars\", \"4\"], [\"inform\", \"hotel\", \"choice\", \"4\"], [\"inform\", \"hotel\", \"type\", \"hotels\"]]</DA>\n",
      "\n",
      "System: Here are some options for hotels in the south of town that have 3 or 4 stars and are not necessarily free parking:\n",
      "\n",
      "2. user: I don't care about the star rating as long as it's expensive.\n",
      "<DA>[[\"recommend\", \"hotel\", \"price range\", \"expensive\"], [\"recommend\", \"hotel\", \"area\", \"south\"], [\"recommend\", \"hotel\", \"choice\", \"only\"], [\"recommend\", \"hotel\", \"type\", \"Hotel\"], [\"recommend\", \"hotel\", \"name\", \"The\n"
     ]
    },
    {
     "ename": "AssertionError",
     "evalue": "",
     "output_type": "error",
     "traceback": [
      "\u001b[0;31m---------------------------------------------------------------------------\u001b[0m",
      "\u001b[0;31mAssertionError\u001b[0m                            Traceback (most recent call last)",
      "Cell \u001b[0;32mIn[917], line 2\u001b[0m\n\u001b[1;32m      1\u001b[0m \u001b[39mprint\u001b[39m(outputs[\u001b[39m833\u001b[39m][\u001b[39m'\u001b[39m\u001b[39mresponse\u001b[39m\u001b[39m'\u001b[39m])\n\u001b[0;32m----> 2\u001b[0m get_pred_sys_rsp(outputs[\u001b[39m833\u001b[39;49m], gold_sys_response_list)\n",
      "Cell \u001b[0;32mIn[893], line 116\u001b[0m, in \u001b[0;36mget_pred_sys_rsp\u001b[0;34m(pred, gold_sys_response_list)\u001b[0m\n\u001b[1;32m    114\u001b[0m     pred_sys_rsp[\u001b[39m'\u001b[39m\u001b[39msys_rsp\u001b[39m\u001b[39m'\u001b[39m][no] \u001b[39m=\u001b[39m sys_rsp\n\u001b[1;32m    115\u001b[0m     num_success\u001b[39m.\u001b[39mappend(no)\n\u001b[0;32m--> 116\u001b[0m \u001b[39massert\u001b[39;00m \u001b[39mlen\u001b[39m(num_success) \u001b[39m>\u001b[39m \u001b[39m0\u001b[39m\n\u001b[1;32m    117\u001b[0m \u001b[39m# 수집하지 못한 num\u001b[39;00m\n\u001b[1;32m    118\u001b[0m num_not_in_response \u001b[39m=\u001b[39m [num \u001b[39mfor\u001b[39;00m num \u001b[39min\u001b[39;00m \u001b[39mrange\u001b[39m(gold_sys_rsp_cnt) \u001b[39mif\u001b[39;00m num \u001b[39m>\u001b[39m \u001b[39mmax\u001b[39m(num_success)]\n",
      "\u001b[0;31mAssertionError\u001b[0m: "
     ]
    }
   ],
   "source": [
    "print(outputs[833]['response'])\n",
    "get_pred_sys_rsp(outputs[833], gold_sys_response_list)"
   ]
  },
  {
   "cell_type": "code",
   "execution_count": null,
   "metadata": {},
   "outputs": [],
   "source": [
    "from nltk.translate.bleu_score import sentence_bleu, corpus_bleu\n",
    "from nltk import word_tokenize\n",
    "\n",
    "# Example machine-translated sentence and reference translations\n",
    "candidate = word_tokenize(\"This is a test sentence\")\n",
    "references = [\n",
    "    word_tokenize(\"This is a test sentence\"),\n",
    "    word_tokenize(\"This is a trial sentence\")\n",
    "]\n",
    "\n",
    "# Calculating BLEU score for a single sentence\n",
    "bleu_score = sentence_bleu(references, candidate)\n",
    "print(f\"Sentence BLEU score: {bleu_score:.2f}\")\n",
    "\n",
    "# For multiple sentences, use corpus_bleu\n",
    "candidates = [word_tokenize(\"This is another test\"), word_tokenize(\"Yet another trial\")]\n",
    "references_multiple = [\n",
    "    [word_tokenize(\"This is another test\"), word_tokenize(\"This is yet another experiment\")],\n",
    "    [word_tokenize(\"Another test this is\"), word_tokenize(\"Yet another experiment this is\")]\n",
    "]\n",
    "\n",
    "# Calculating BLEU score for multiple sentences\n",
    "corpus_score = corpus_bleu(references_multiple, candidates)\n",
    "print(f\"Corpus BLEU score: {corpus_score:.2f}\")"
   ]
  },
  {
   "cell_type": "code",
   "execution_count": null,
   "metadata": {},
   "outputs": [],
   "source": [
    "from bert_score import score\n",
    "\n",
    "# Your candidate (generated) and reference sentences\n",
    "candidates = [\"This is a test sentence for evaluation.\"]\n",
    "references = [\"This sentence is for testing the evaluation.\"]\n",
    "\n",
    "# Calculating BERTScore\n",
    "P, R, F1 = score(candidates, references, lang='en')\n",
    "\n",
    "print(f\"Precision: {P.mean().item():.3f}\")\n",
    "print(f\"Recall: {R.mean().item():.3f}\")\n",
    "print(f\"F1 Score: {F1.mean().item():.3f}\")\n"
   ]
  },
  {
   "cell_type": "code",
   "execution_count": null,
   "metadata": {},
   "outputs": [],
   "source": []
  },
  {
   "cell_type": "code",
   "execution_count": 964,
   "metadata": {},
   "outputs": [
    {
     "data": {
      "text/plain": [
       "dict_keys(['dataset', 'data_split', 'dialogue_id', 'original_id', 'domains', 'goal', 'turns'])"
      ]
     },
     "execution_count": 964,
     "metadata": {},
     "output_type": "execute_result"
    }
   ],
   "source": [
    "dataset['test'][0].keys()"
   ]
  },
  {
   "cell_type": "code",
   "execution_count": null,
   "metadata": {},
   "outputs": [],
   "source": []
  }
 ],
 "metadata": {
  "kernelspec": {
   "display_name": ".venv",
   "language": "python",
   "name": "python3"
  },
  "language_info": {
   "codemirror_mode": {
    "name": "ipython",
    "version": 3
   },
   "file_extension": ".py",
   "mimetype": "text/x-python",
   "name": "python",
   "nbconvert_exporter": "python",
   "pygments_lexer": "ipython3",
   "version": "3.8.10"
  },
  "orig_nbformat": 4
 },
 "nbformat": 4,
 "nbformat_minor": 2
}
